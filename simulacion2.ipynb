{
  "nbformat": 4,
  "nbformat_minor": 0,
  "metadata": {
    "colab": {
      "provenance": [],
      "toc_visible": true,
      "authorship_tag": "ABX9TyP6Cx1IC7mZV9onIPLHLO7E",
      "include_colab_link": true
    },
    "kernelspec": {
      "name": "python3",
      "display_name": "Python 3"
    },
    "language_info": {
      "name": "python"
    }
  },
  "cells": [
    {
      "cell_type": "markdown",
      "metadata": {
        "id": "view-in-github",
        "colab_type": "text"
      },
      "source": [
        "<a href=\"https://colab.research.google.com/github/EmilianoCelleri/Simulacion_Python/blob/main/simulacion2.ipynb\" target=\"_parent\"><img src=\"https://colab.research.google.com/assets/colab-badge.svg\" alt=\"Open In Colab\"/></a>"
      ]
    },
    {
      "cell_type": "markdown",
      "source": [
        "<img src='https://www.labrujula24.com/wp-content/uploads/2022/08/figuritas-1536x864.jpg'>"
      ],
      "metadata": {
        "id": "P0o3_OyJCCVq"
      }
    },
    {
      "cell_type": "markdown",
      "source": [
        "Problema a Simular: El problema que queremos simular es el proceso de llenar un álbum de figuritas mediante la apertura de paquetes de figuritas. Queremos evaluar cuántos paquetes son necesarios para completar el álbum y a partir de eso construir un grafica que represente la distribución.\n",
        "\n",
        "Objetivo de la Simulación: El objetivo de la simulación es proporcionar una estimación de cuántos paquetes se necesitan en promedio para llenar el álbum."
      ],
      "metadata": {
        "id": "QSOfg2_yBoZK"
      }
    },
    {
      "cell_type": "markdown",
      "source": [
        "Importamos las librerias que vamos a utilizar para la simulación"
      ],
      "metadata": {
        "id": "wuriAzBGAj9J"
      }
    },
    {
      "cell_type": "code",
      "execution_count": null,
      "metadata": {
        "id": "EVop_G4SejaQ"
      },
      "outputs": [],
      "source": [
        "# Imports de las librerias a utilizar\n",
        "\n",
        "import numpy as np\n",
        "import random\n",
        "import seaborn as sns\n",
        "import matplotlib.pyplot as plt\n",
        "\n",
        "# Estetica de seaborn\n",
        "sns.set_palette(\"deep\", desat=.6)\n",
        "sns.set_context(rc={\"figure.figsize\": (8, 4)})\n",
        "\n",
        "# Para evitar que nos aparezcan resultados en notación científica\n",
        "np.set_printoptions(suppress=True)"
      ]
    },
    {
      "cell_type": "markdown",
      "source": [
        "Definimos las variables de cantidad de figuritas y cantidad de figuritas por paquete"
      ],
      "metadata": {
        "id": "G3USyuZg-wLr"
      }
    },
    {
      "cell_type": "code",
      "source": [
        "# Cantidad de figuritas totales del album\n",
        "figus_total = 860\n",
        "\n",
        "# Cantidad de figuritas por paquete\n",
        "figus_paquete = 5\n"
      ],
      "metadata": {
        "id": "Jb6z3rSUeqNQ"
      },
      "execution_count": null,
      "outputs": []
    },
    {
      "cell_type": "markdown",
      "source": [
        "Experimento aleatorio: Definimos una funcion cuantos_paquetes que dado el tamaño del album y la cantidad de figuritas por paquete, generara un album y va a simular la cantidad de paquetes que se necesitan para completarlo.\n"
      ],
      "metadata": {
        "id": "xFpWGeJxfEy4"
      }
    },
    {
      "cell_type": "markdown",
      "source": [
        "Funciones principales de la simulación"
      ],
      "metadata": {
        "id": "Zgihl6QTCsCY"
      }
    },
    {
      "cell_type": "code",
      "source": [
        "def crear_album(figus_total):\n",
        "  '''\n",
        "  Funcion para crear el album de figuritas, retorna un album\n",
        "  '''\n",
        "  album = np.zeros(figus_total)\n",
        "  return album\n",
        "\n",
        "def comprar_paquete(figus_total, figus_paquete):\n",
        "  '''\n",
        "  Funcion para comprar paquetes, retorna 5 figuritas\n",
        "  '''\n",
        "  rango_figus = range(0, figus_total)\n",
        "  paquete = random.sample(rango_figus, figus_paquete)\n",
        "  return paquete\n",
        "\n",
        "def pegar_figus(album, paquete):\n",
        "  '''\n",
        "  Funcion para pegar figuritas\n",
        "  '''\n",
        "  for i in paquete:\n",
        "    album[i] = 1\n",
        "  return album\n",
        "\n",
        "def album_incompleto(album):\n",
        "  '''\n",
        "  Funcion para comprobar si el album esta incompleto\n",
        "  '''\n",
        "  if np.all(album==1):\n",
        "    return False\n",
        "  else:\n",
        "    return True\n",
        "\n",
        "def cuantos_paquetes(figus_total, figus_paquete):\n",
        "  '''\n",
        "  Funcion principal para saber cuantos paquetes de figuritas se necesitan para llenar el album, retorna la cantidad de paquetes\n",
        "  '''\n",
        "  paquetes_comprados = 0\n",
        "  album = crear_album(figus_total)\n",
        "  while (album_incompleto(album)) == True:\n",
        "    paquete = comprar_paquete(figus_total, figus_paquete)\n",
        "    pegar_figus(album, paquete)\n",
        "    paquetes_comprados += 1\n",
        "  return paquetes_comprados\n",
        "\n",
        "\n"
      ],
      "metadata": {
        "id": "ai81it75fIc4"
      },
      "execution_count": null,
      "outputs": []
    },
    {
      "cell_type": "markdown",
      "source": [
        "Pruebas de todas las funciones implementadas"
      ],
      "metadata": {
        "id": "501VlhQb_ouq"
      }
    },
    {
      "cell_type": "code",
      "source": [
        "'''Prueba funcion crear album\n",
        "\n",
        "album = crear_album(figus_total)\n",
        "print(album)\n",
        "print(type(album))'''"
      ],
      "metadata": {
        "id": "-OAqs6eJuq1K"
      },
      "execution_count": null,
      "outputs": []
    },
    {
      "cell_type": "code",
      "source": [
        "'''Prueba comprar paquete\n",
        "\n",
        "paquete = comprar_paquete(figus_total, figus_paquete)\n",
        "print(paquete)\n",
        "print(type(paquete))'''"
      ],
      "metadata": {
        "id": "PVogC5Jqvtnc"
      },
      "execution_count": null,
      "outputs": []
    },
    {
      "cell_type": "code",
      "source": [
        "'''Prueba album_incompleto\n",
        "print(album)\n",
        "print(album_incompleto(album))\n",
        "album = np.ones(figus_total)\n",
        "print(album)\n",
        "print(album_incompleto(album))'''"
      ],
      "metadata": {
        "id": "mD_SsZViz-vX"
      },
      "execution_count": null,
      "outputs": []
    },
    {
      "cell_type": "code",
      "source": [
        "'''Prueba pegar_figus\n",
        "print(album)\n",
        "paquete = comprar_paquete(figus_total, figus_paquete)\n",
        "print(paquete)\n",
        "\n",
        "pegar_figus(album, paquete)\n",
        "print(album)'''"
      ],
      "metadata": {
        "id": "W877i4jX3Q2z"
      },
      "execution_count": null,
      "outputs": []
    },
    {
      "cell_type": "code",
      "source": [
        "'''Prueba cuantos_paquetes\n",
        "\n",
        "print(cuantos_paquetes(figus_total, figus_paquete))'''"
      ],
      "metadata": {
        "id": "_Kfis2mwJaA0"
      },
      "execution_count": null,
      "outputs": []
    },
    {
      "cell_type": "markdown",
      "source": [
        "Para el armado de la muestra aleatoria definimos una semilla, fijamos N en 100 para armar 100 muestras.\n"
      ],
      "metadata": {
        "id": "1xSopOPZfnTx"
      }
    },
    {
      "cell_type": "code",
      "source": [
        "random.seed(10)\n",
        "N = 100\n",
        "\n",
        "muestras = [cuantos_paquetes(figus_total, figus_paquete) for _ in range(N)]\n",
        "\n",
        "print(muestras)\n",
        "\n"
      ],
      "metadata": {
        "id": "IzVwa4qtfnyX",
        "colab": {
          "base_uri": "https://localhost:8080/"
        },
        "outputId": "e2d923d5-22ec-4a3d-c570-8df41da631d9"
      },
      "execution_count": null,
      "outputs": [
        {
          "output_type": "stream",
          "name": "stdout",
          "text": [
            "[1175, 1876, 1066, 924, 1332, 1515, 947, 1328, 1211, 1081, 1168, 1361, 1025, 1413, 1183, 1522, 1461, 1105, 1378, 1139, 1679, 1232, 1308, 1180, 1250, 938, 1072, 1451, 1215, 1415, 1487, 1355, 1251, 1157, 1391, 1279, 1086, 1005, 1101, 855, 1222, 1213, 1297, 1595, 1203, 1360, 1457, 1357, 1646, 1804, 1045, 1263, 1174, 1510, 959, 1109, 1487, 992, 1661, 1304, 1418, 1337, 1290, 1148, 1153, 1250, 997, 955, 1008, 1158, 1236, 1581, 1458, 1134, 1167, 1074, 1383, 1236, 965, 1016, 1129, 1027, 1530, 1204, 1173, 1104, 1369, 1716, 1109, 1068, 1250, 1042, 1329, 1251, 1235, 1182, 1090, 1045, 1067, 1056]\n"
          ]
        }
      ]
    },
    {
      "cell_type": "markdown",
      "source": [
        "Estimamos la esperanza para saber cuantos paquetes se necesitan para completar el album, en este caso el promedio de lo observado en las muestras, para eso utilizamos la funcion .mean de numpy\n"
      ],
      "metadata": {
        "id": "kr3nixdgf-xM"
      }
    },
    {
      "cell_type": "code",
      "source": [
        "print(np.mean(muestras))"
      ],
      "metadata": {
        "colab": {
          "base_uri": "https://localhost:8080/"
        },
        "id": "zQGuIA6UN797",
        "outputId": "4f77f890-b9a5-48cf-a088-7d503682406c"
      },
      "execution_count": null,
      "outputs": [
        {
          "output_type": "stream",
          "name": "stdout",
          "text": [
            "1245.15\n"
          ]
        }
      ]
    },
    {
      "cell_type": "markdown",
      "source": [
        "Utilizamos un histograma de la libreria matplotlib para mostrar la grafica"
      ],
      "metadata": {
        "id": "HEW5-CkYD7mm"
      }
    },
    {
      "cell_type": "code",
      "source": [
        "plt.hist(muestras, color='purple', label='Cantidad de figuritas')\n",
        "plt.title(\"Simulacion llenado de album figuritas\")\n",
        "plt.xlabel('Cantidad de paquetes para llenar el album')\n",
        "plt.ylabel('Cantidad de repeticiones')\n",
        "plt.legend();"
      ],
      "metadata": {
        "colab": {
          "base_uri": "https://localhost:8080/",
          "height": 472
        },
        "id": "nhuz3krRPHAc",
        "outputId": "3a7388d5-ebd9-4cb0-a456-6c78f8697467"
      },
      "execution_count": null,
      "outputs": [
        {
          "output_type": "display_data",
          "data": {
            "text/plain": [
              "<Figure size 640x480 with 1 Axes>"
            ],
            "image/png": "[encoded data removed]"
          },
          "metadata": {}
        }
      ]
    }
  ]
}